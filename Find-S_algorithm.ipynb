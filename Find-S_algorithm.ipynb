{
 "cells": [
  {
   "cell_type": "code",
   "execution_count": 9,
   "metadata": {},
   "outputs": [
    {
     "name": "stdout",
     "output_type": "stream",
     "text": [
      "\n",
      " The most general hypothesis is: ['?', '?', '?', '?', '?', '?'] \n",
      "\n",
      "\n",
      " The most specific hypothesis is: ['0', '0', '0', '0', '0', '0'] \n",
      "\n",
      "['Japan', 'Honda', 'Blue', '1980', 'Economy', 'Positive']\n",
      "['Japan', 'Toyota', 'Green', '1970', 'Sport', 'Negative']\n",
      "['Japan', 'Toyota', 'Blue', '1990', 'Economy', 'Positive']\n",
      "['USA', 'Chrysler', 'Red', '1980', 'Economy', 'Negative']\n",
      "['Japan', 'Honda', 'White', '1980', 'Economy', 'Positive']\n",
      "['Japan', 'Toyota', 'Green', '1980', 'Economy', 'Positive']\n",
      "['Japan', 'Honda', 'Red', '1990', 'Economy', 'Negative']\n"
     ]
    }
   ],
   "source": [
    "import random\n",
    "import csv\n",
    "attributes = [['Japan','USA'],\n",
    "               ['Honda', 'Toyota', 'Chrysler'],\n",
    "                ['Blue', 'Green', 'White', 'Red'],\n",
    "                ['1980', '1970', '1990'],\n",
    "                ['Economy', 'Sports']]\n",
    "num_attributes = len(attributes)\n",
    "print(\"\\n The most general hypothesis is: ['?', '?', '?', '?', '?', '?'] \\n\")\n",
    "print(\"\\n The most specific hypothesis is: ['0', '0', '0', '0', '0', '0'] \\n\")\n",
    "a = []\n",
    "with open ('/home/student/014/cars.csv', 'r') as csvFile:\n",
    "    reader = csv.reader(csvFile)\n",
    "    for row in reader:\n",
    "        a.append (row)\n",
    "        print(row)"
   ]
  },
  {
   "cell_type": "code",
   "execution_count": 10,
   "metadata": {},
   "outputs": [
    {
     "name": "stdout",
     "output_type": "stream",
     "text": [
      "\n",
      " The Initial Value of hypothesis:\n",
      "['0', '0', '0', '0', '0']\n"
     ]
    }
   ],
   "source": [
    "print(\"\\n The Initial Value of hypothesis:\")\n",
    "hypothesis = ['0'] * num_attributes\n",
    "print(hypothesis)"
   ]
  },
  {
   "cell_type": "code",
   "execution_count": 11,
   "metadata": {},
   "outputs": [
    {
     "name": "stdout",
     "output_type": "stream",
     "text": [
      "\n",
      " Find S: Finding the maximally Specific Hypothesis\n",
      "\n",
      "\n",
      " For Training Example:6 the hypothesis is  ['Japan', '?', '?', '?', 'Economy']\n",
      "The maximally Specific Hypothesis for a given Traing Example:\n",
      "\n",
      "['Japan', '?', '?', '?', 'Economy']\n"
     ]
    }
   ],
   "source": [
    "for j in range(0, num_attributes):\n",
    "    hypothesis[j] = a[0][j]\n",
    "print (\"\\n Find S: Finding the maximally Specific Hypothesis\\n\")\n",
    "for i in range(0, len(a)):\n",
    "    if a[i][num_attributes]=='Positive':\n",
    "        for j in range(0, num_attributes):\n",
    "            if(hypothesis[j]!=a[i][j]):\n",
    "                hypothesis[j] = '?'\n",
    "            else:\n",
    "                hypothesis[j] = a[i][j]\n",
    "print(\"\\n For Training Example:{0} the hypothesis is \".format(i),hypothesis)\n",
    "print(\"The maximally Specific Hypothesis for a given Traing Example:\\n\")\n",
    "print(hypothesis)"
   ]
  },
  {
   "cell_type": "code",
   "execution_count": null,
   "metadata": {},
   "outputs": [],
   "source": []
  }
 ],
 "metadata": {
  "kernelspec": {
   "display_name": "Python 3",
   "language": "python",
   "name": "python3"
  },
  "language_info": {
   "codemirror_mode": {
    "name": "ipython",
    "version": 3
   },
   "file_extension": ".py",
   "mimetype": "text/x-python",
   "name": "python",
   "nbconvert_exporter": "python",
   "pygments_lexer": "ipython3",
   "version": "3.6.5"
  }
 },
 "nbformat": 4,
 "nbformat_minor": 2
}
